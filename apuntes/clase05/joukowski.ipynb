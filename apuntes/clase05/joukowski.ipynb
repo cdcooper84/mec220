{
 "cells": [
  {
   "cell_type": "markdown",
   "metadata": {},
   "source": [
    "# Transformación de Joukowsky\n",
    "\n",
    "La transformación de Joukowsky nos permite mapear un círculo a un perfil aerodinámico. Si $\\zeta = \\xi + i\\eta$ son los puntos de un círculo en el plano $\\zeta$, la tranformación de Joukowsky es\n",
    "\n",
    "\\begin{equation}\n",
    "z = \\zeta + \\frac{k^2}{\\zeta}\n",
    "\\end{equation}\n",
    "\n",
    "donde $z=x+iy$ son los puntos que definen el perfil aerodinámico, y $k$ es un factor que define el tamaño. Eso si, existe una condición: el contorno del círculo debe intersectar el punto $\\xi=k, \\eta=0$, y el punto $\\xi=-k, \\eta=0$ debe estar contenido dentro del círculo. De no cumplir estas condicones, la transformación genera geomterías que no se asemejan a un perfil aerodinámico.\n",
    "\n",
    "A continuación, generaremos un círculo y veremos que pasa"
   ]
  },
  {
   "cell_type": "code",
   "execution_count": null,
   "metadata": {
    "scrolled": true
   },
   "outputs": [],
   "source": [
    "import numpy\n",
    "from math import pi\n",
    "from matplotlib import pyplot, mlab\n",
    "%matplotlib inline\n",
    "pyplot.rcParams['font.family'] = 'serif'\n",
    "pyplot.rcParams['font.size'] = 16\n",
    "\n",
    "def circulo(centro, R, N):\n",
    "    alpha = numpy.linspace(0,2*pi,N)\n",
    "\n",
    "    x_prime = R*numpy.cos(alpha)\n",
    "    y_prime = R*numpy.sin(alpha)\n",
    "    \n",
    "    zeta = numpy.array(x_prime+1j*y_prime)\n",
    "    \n",
    "    zeta += centro\n",
    "    \n",
    "    return zeta\n",
    "    \n",
    "\n",
    "N = 101\n",
    "centro_x = -0.1\n",
    "centro_y = 0.   \n",
    "centro = centro_x+centro_y*1j\n",
    "\n",
    "# Tamaño del perfil\n",
    "k = 1\n",
    "\n",
    "# Radio para que circulo intersecte punto (k,0)\n",
    "# Ojo: el punto (-k,0) debiese queda DENTRO del circulo (no lo checkeo aca)\n",
    "R = numpy.sqrt((k-centro_x)**2+centro_y**2)\n",
    "\n",
    "# Generar cilindro\n",
    "zeta = circulo(centro, R, N)\n",
    "\n",
    "x_cil = numpy.real(zeta)\n",
    "y_cil = numpy.imag(zeta)\n",
    "\n",
    "pyplot.figure()\n",
    "\n",
    "fig=pyplot.plot(x_cil,y_cil,c='k')\n",
    "fig2=pyplot.plot(0, 0, marker='+', markersize=10, c='k')\n",
    "fig3=pyplot.plot(centro_x,centro_y,marker='o', markersize=5, c='k')\n",
    "pyplot.axis('equal')\n",
    "pyplot.xlim([-(R+numpy.abs(centro))-0.1,(R+numpy.abs(centro))+0.1])\n",
    "pyplot.ylim([-(R+numpy.abs(centro))-0.1,(R+numpy.abs(centro))+0.1])"
   ]
  },
  {
   "cell_type": "markdown",
   "metadata": {},
   "source": [
    "Como ven, generamos un círculo centrado en `centro_x` y `centro_y`. El radio lo definimos para asegurarnos que el contorno intersecte el punto $\\xi=1, \\eta=0$. El origen está marcado con una cruz y el centro del cículo con un punto.\n",
    "\n",
    "A continuación, definimos una función que realiza la tranformación. Veamos que pasa!"
   ]
  },
  {
   "cell_type": "code",
   "execution_count": null,
   "metadata": {
    "scrolled": false
   },
   "outputs": [],
   "source": [
    "# Generar perfil de Joukouski\n",
    "def Joukowsky(zeta, k):\n",
    "    z = zeta + k*k/zeta\n",
    "\n",
    "    return z\n",
    "\n",
    "z = Joukowsky(zeta, k)\n",
    "\n",
    "x = numpy.real(z)\n",
    "y = numpy.imag(z)\n",
    "\n",
    "pyplot.clf()\n",
    "pyplot.figure()\n",
    "fig=pyplot.plot(x,y,c='k')\n",
    "pyplot.axis('equal')\n",
    "pyplot.xlim([-2*k-0.1,2*k+0.1])\n",
    "pyplot.ylim([-2*k-0.1,2*k+0.1])\n",
    "#pyplot.savefig('perfil_simetrico.pdf')"
   ]
  },
  {
   "cell_type": "markdown",
   "metadata": {},
   "source": [
    "Eso se parece mucho a la sección transversal de un ala: es una geometría aerodinámica, con una punta en la parte posterior. \n",
    "\n",
    "La geometría de este perfil alar depende del centro del círculo inicial. Si varían `centro_x` el perfil se ensancha, y si varían `centro_y` se hace cada vez más curvo ¡Pruébenlo!\n",
    "\n",
    "\n",
    "# Flujo alrededor de un perfil alar\n",
    "\n",
    "Utilicemos lo que acabamos de aprender para estudiar el flujo alrededor de un perfil alar. Con la superposición de un flujo uniforme con un doblete y un vórtice obtenemos el flujo alrededor de un cilindro, y a ese resultado podemos aplicarle la transformación de Joukowsky para visualizar las líneas de flujo alrededor del perfil alar.\n",
    "\n",
    "Usando variables complejas, podemos escribir la función corriente del flujo que entra a un ángulo $\\alpha$ alrededor de un cilindro centrado en $z_0=x_0+iy_0$ como:\n",
    "\n",
    "\\begin{align}\n",
    "\\psi &= \\psi_\\text{Uniforme} + \\psi_\\text{doblete} + \\psi_\\text{vortice} \\\\\n",
    "     &= \\Im\\left[U_\\infty z e^{-i\\alpha} + \\frac{K}{z-z_0}e^{i\\alpha} - i\\frac{\\Gamma}{2\\pi}\\log(z-z_0)\\right]\n",
    "\\end{align}\n",
    "\n",
    "donde $\\Im$ indica que es la parte imaginaria, $U_\\infty$ es la velocidad de entrada, $K$ la fuerza del doblete, y $\\Gamma$ la circulación alrededor del vórtice. Grafiquemos un caso:"
   ]
  },
  {
   "cell_type": "code",
   "execution_count": null,
   "metadata": {
    "scrolled": false
   },
   "outputs": [],
   "source": [
    "nx = 300\n",
    "L = 6.0\n",
    "xp = numpy.linspace(-L/2,L/2,nx)\n",
    "Xp,Yp = numpy.meshgrid(xp,xp)\n",
    "\n",
    "Zp = Xp + Yp*1j\n",
    "\n",
    "alpha_at = 15*pi/180.\n",
    "\n",
    "# Flujo uniforme\n",
    "U_inf = 1.\n",
    "PHI_U = U_inf*Zp*numpy.exp(-1j*alpha_at)\n",
    "\n",
    "# Doblete (corrido a 'centro')\n",
    "K= R**2*U_inf\n",
    "PHI_d = K/(Zp-centro)*numpy.exp(1j*alpha_at)\n",
    "\n",
    "# Vortice (corrido a 'centro')\n",
    "Gamma = -0.\n",
    "PHI_v = -1j*Gamma/(2*pi)*numpy.log(Zp-centro)\n",
    "\n",
    "# Constante extra para que psi=0 sea siempre el cilindro\n",
    "PHI_c = PHI_U + PHI_d + PHI_v #- 1j*Gamma/(2*pi)*numpy.log(R-numpy.abs(centro))\n",
    "\n",
    "psi_c = numpy.imag(PHI_c)\n",
    "phi_c = numpy.real(PHI_c)\n",
    "\n",
    "contours = numpy.arange(-4,4,0.5)\n",
    "\n",
    "pyplot.figure()\n",
    "C = pyplot.contour(Xp, Yp, psi_c, contours, colors='k')\n",
    "#C3 = pyplot.contour(Xp, Yp, phi_c, contours, colors='k')\n",
    "C2 = pyplot.plot(x_cil,y_cil,c='r')\n",
    "pyplot.clabel(C, inline=1, fontsize=10)\n",
    "\n",
    "pyplot.axis('equal')\n",
    "pyplot.xlim([-L/2,L/2])\n",
    "pyplot.ylim([-L/2,L/2])\n",
    "#pyplot.savefig('flujo_cil.pdf')"
   ]
  },
  {
   "cell_type": "markdown",
   "metadata": {},
   "source": [
    "Apliquemos la tranformación de Joukowsky sobre este caso. Vamos a tener que redistribuir la data 'transformada' en un arreglo unidimensional, pues `Python` solamente acepta graficar curvas de nivel de mallas regulares (cartesianos) y la malla transfomada no lo es. Además, el flujo dentro del cilindro no tiene significado físico, por lo que sacamos esos puntos para que no nos arruine la interpolación."
   ]
  },
  {
   "cell_type": "code",
   "execution_count": null,
   "metadata": {
    "scrolled": true
   },
   "outputs": [],
   "source": [
    "from scipy import interpolate\n",
    "\n",
    "# Conviene pasar Zp y psi a 1D (por numpy.where y mlab.griddata)\n",
    "Zp_1D = numpy.ravel(Zp)\n",
    "psi_c_1D = numpy.ravel(psi_c)\n",
    "\n",
    "# Los puntos dentro del cilindro no tienen significado fisico y los sacamos\n",
    "fuera_cil = numpy.where(numpy.abs(Zp_1D-centro)>R)[0]\n",
    "\n",
    "psi_perfil = psi_c_1D[fuera_cil]\n",
    "\n",
    "Z = Joukowsky(Zp_1D[fuera_cil], k)\n",
    "X = numpy.ravel(numpy.real(Z))\n",
    "Y = numpy.ravel(numpy.imag(Z))\n",
    "\n",
    "\n",
    "# pyplot.countour funciona solamente con mallas regulares\n",
    "# Interpolar X,Y a malla regular\n",
    "xi= numpy.linspace(-L/2,L/2,200)\n",
    "Xi,Yi = numpy.meshgrid(xi,xi)\n",
    "\n",
    "psi_i = mlab.griddata(X, Y, psi_perfil, Xi, Yi, interp='linear')\n",
    "\n",
    "\n",
    "pyplot.clf()\n",
    "pyplot.figure()\n",
    "contours = numpy.arange(-4,4,0.15)\n",
    "\n",
    "C=pyplot.contour(Xi, Yi, psi_i, contours, colors='k')\n",
    "C2=pyplot.plot(x,y,c='r')\n",
    "#pyplot.clabel(C, inline=1, fontsize=10)\n",
    "\n",
    "pyplot.axis('equal')\n",
    "pyplot.xlim([-2*k-0.1,2*k+0.1])\n",
    "pyplot.ylim([-2*k-0.1,2*k+0.1])\n",
    "pyplot.savefig('flujo_perfil_gamma3.pdf')"
   ]
  },
  {
   "cell_type": "markdown",
   "metadata": {
    "collapsed": true
   },
   "source": [
    "# Condición de Kutta\n",
    "\n",
    "El flujo resultante se ve físicamente posible, ¿o no? Fíjense en la parte posterior: las líneas de flujo salen de la punta hacia arriba. Esto no es muy físico, pues uno esperaría que la línea de flujo salga por la parte posterior con el mismo ángulo que la punta. En el ejemplo usamos $\\Gamma=-1$, y podemos modificar las líneas de flujo variando $\\Gamma$.\n",
    "\n",
    "La pregunta entonces es ¿Cuánto tiene que ser $\\Gamma$ para que la línea de flujo a la salida sea física? En palabras más físicas ¿Cuánta es la circulación generada por el perfil alar? Eso se conoce como la condición de Kutta. Si modificamos $\\Gamma=-5$, nos pasa lo contrario, las líneas de flujo a la salida parecen apuntar hacia abajo. Ahora, si intentan $\\Gamma=-3.6$, la línea de flujo sale del perfil alar con el ángulo de la punta. Esto es un resultado que tiene sentido físico, por lo tanto, es un buen modelo para el flujo alrededor de un perfil alar.\n",
    "\n",
    "La utilidad de esto es que ahora podemos calcular la fuerza de sustentación sobre el perfil alar, puesa sabemos que la sustentación sobre un cilindro con circulación es $L=\\rho\\Gamma U_\\infty$. Si llegamos a que la circulación para que se cumpla la condición de Kutta es $\\Gamma_K$, entonces la fuerza de sustentación sobre el perfil es:\n",
    "\n",
    "\\begin{equation}\n",
    "L=\\rho\\Gamma_K U_\\infty\n",
    "\\end{equation}\n",
    "\n",
    "En palabras más técnicas, la condición de Kutta dice que un perfil aerodinámico producirá en el flujo la cantidad de ciruclación necesaria para que el punto de estancamiento esté en la parte puntiaguda. El que exista una transformación analítica que nos lleve a un perfil aerodinámico es un caso muy particular de los perfiles de Joukousky, pero no es el caso general. Por lo tanto, para un perfil sin una transformación hay que monitorear la velocidad a la salida del perfil para ver si hay estancamiento, y así encontrar $\\Gamma_K$.\n",
    "\n",
    "Para Joukowsky, podemos aprovechar que si existe una transformación para calcular analíticamente $\\Gamma_K$. Sabemos que el punto del cilindro que mapea a la punta es el punto singular $(1,0)$, por lo tanto, la condición de Kutta se cumple tal que el punto de estancamiento en el cilindro se encuentre en $(1,0)$\n",
    "\n",
    "Usando variable compleja, la función potencial en el caso del cilindro es\n",
    "\n",
    "\\begin{equation}\n",
    "\\Phi_c = U_\\infty z e^{-i\\alpha} + \\frac{K}{z-z_0}e^{i\\alpha} - i\\frac{\\Gamma}{2\\pi}\\log(z-z_0)\n",
    "\\end{equation}\n",
    "\n",
    "y la velocidad\n",
    "\n",
    "\\begin{equation}\n",
    "V = u+iv = \\frac{d\\Phi_c}{dz} = U_\\infty e^{-i\\alpha} - \\frac{K}{(z-z_0)^2}e^{i\\alpha} - i\\frac{\\Gamma}{2\\pi(z-z_0)}\n",
    "\\end{equation}\n",
    "\n",
    "Sabiendo que $R = \\sqrt{K/U_\\infty}$, y que en el punto de estancamiento $V(1,0)=0$, podemos despejar $\\Gamma_K$\n",
    "\n",
    "\\begin{equation}\n",
    "\\Gamma_K = -2\\pi i\\left[ U_\\infty e^{-i\\alpha}(z-z_0) - \\frac{R^2U_\\infty}{z-z_0}e^{i\\alpha}\\right]\n",
    "\\end{equation}\n",
    "\n",
    "A continuación, calculemos $\\Gamma_K$, y veamos si coincide con el $\\Gamma_K=-3.6$ que obtuvimos visualmente."
   ]
  },
  {
   "cell_type": "code",
   "execution_count": null,
   "metadata": {},
   "outputs": [],
   "source": [
    "p_sing = 1.+0*1j # punto singular\n",
    "Gamma_k = -2*pi*1j*(U_inf*numpy.exp(-1j*alpha_at)*(p_sing-centro) - R**2*U_inf*numpy.exp(1j*alpha_at)/(p_sing-centro))\n",
    "print Gamma_k"
   ]
  },
  {
   "cell_type": "code",
   "execution_count": null,
   "metadata": {},
   "outputs": [],
   "source": []
  }
 ],
 "metadata": {
  "kernelspec": {
   "display_name": "Python 2",
   "language": "python",
   "name": "python2"
  },
  "language_info": {
   "codemirror_mode": {
    "name": "ipython",
    "version": 2
   },
   "file_extension": ".py",
   "mimetype": "text/x-python",
   "name": "python",
   "nbconvert_exporter": "python",
   "pygments_lexer": "ipython2",
   "version": "2.7.12"
  }
 },
 "nbformat": 4,
 "nbformat_minor": 1
}
