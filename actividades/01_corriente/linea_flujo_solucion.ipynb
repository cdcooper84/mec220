{
 "cells": [
  {
   "cell_type": "markdown",
   "metadata": {},
   "source": [
    "## Función corriente\n",
    "\n",
    "En esta actividad, vamos a verificar que las curvas de nivel de la función corriente de un flujo son líneas de flujo. Como ejemplo usaremos el flujo descrito por\n",
    "\n",
    "\\begin{equation}\n",
    "V_r(r,\\theta) = 2r\\cos(2\\theta)\\\\\n",
    "V_\\theta(r,\\theta) = 2r\\sin(2\\theta)\n",
    "\\end{equation}\n",
    "\n",
    "Como ven, estaremos trabajando en coordenadas polares. Similar a lo que vimos en clases, donde \n",
    "\n",
    "\\begin{equation}\n",
    "u = \\frac{\\partial\\psi}{\\partial y} \\\\\n",
    "v = -\\frac{\\partial\\psi}{\\partial x} \n",
    "\\end{equation}\n",
    "\n",
    "para el caso de coordenadas polares, esto es\n",
    "\n",
    "\\begin{equation}\n",
    "V_r = \\frac{1}{r}\\frac{\\partial\\psi}{\\partial \\theta}\\\\\n",
    "V_\\theta = -\\frac{\\partial\\psi}{\\partial r}\n",
    "\\end{equation}\n",
    "\n",
    "Primero, veamos cómo se ven los vectores velocidad. Los graficaremos en una malla cuadriculada usando la función [`pyplot.quiver`](https://matplotlib.org/3.1.1/api/_as_gen/matplotlib.pyplot.quiver.html)"
   ]
  },
  {
   "cell_type": "code",
   "execution_count": null,
   "metadata": {},
   "outputs": [],
   "source": [
    "import numpy\n",
    "from matplotlib import pyplot\n",
    "%matplotlib inline\n",
    "\n",
    "nx = 50\n",
    "L = 4.0\n",
    "x = numpy.linspace(0,L,nx)\n",
    "y = numpy.linspace(0,L,nx)\n",
    "X,Y = numpy.meshgrid(x,y)\n",
    "\n",
    "r = numpy.sqrt(X**2 + Y**2)\n",
    "theta = numpy.arctan2(Y,X)\n",
    "\n",
    "Vr = 2 * r * numpy.cos(2*theta)\n",
    "Vtheta = -2 * r * numpy.sin(2*theta)\n",
    "\n",
    "# quiver grafica vectores cartesianos\n",
    "u = Vr*numpy.cos(theta) - Vtheta*numpy.sin(theta)\n",
    "v = Vr*numpy.sin(theta) + Vtheta*numpy.cos(theta)\n",
    "\n",
    "pyplot.quiver(X,Y,u,v)"
   ]
  },
  {
   "cell_type": "markdown",
   "metadata": {},
   "source": [
    "Ahora encuentre la ecuación de la función corriente y grafique sus curvas de nivel con la función [`pyplot.countour`](https://matplotlib.org/3.2.1/api/_as_gen/matplotlib.pyplot.contour.html), de la forma `pyplot.contour(X,Y,psi)` ¿Cómo se comparan con la gráfica de vectores?¿Son líneas de flujo?"
   ]
  },
  {
   "cell_type": "code",
   "execution_count": null,
   "metadata": {},
   "outputs": [],
   "source": [
    "## Solucion\n",
    "psi = 2*r*numpy.sin(2*theta)\n",
    "pyplot.contour(X,Y,psi)"
   ]
  },
  {
   "cell_type": "code",
   "execution_count": null,
   "metadata": {},
   "outputs": [],
   "source": []
  }
 ],
 "metadata": {
  "kernelspec": {
   "display_name": "Python 3",
   "language": "python",
   "name": "python3"
  },
  "language_info": {
   "codemirror_mode": {
    "name": "ipython",
    "version": 3
   },
   "file_extension": ".py",
   "mimetype": "text/x-python",
   "name": "python",
   "nbconvert_exporter": "python",
   "pygments_lexer": "ipython3",
   "version": "3.7.2"
  }
 },
 "nbformat": 4,
 "nbformat_minor": 2
}
