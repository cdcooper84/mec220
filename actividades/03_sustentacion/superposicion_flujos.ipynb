{
 "cells": [
  {
   "cell_type": "markdown",
   "metadata": {},
   "source": [
    "# Superposición de flujos elementales\n",
    "\n",
    "## Cuerpo de Rankine\n",
    "\n",
    "El cuerpo de Rankine es uno de los flujos superpuestos más simples que tiene relevancia en mecánica de fluidos. Éste se obtiene al sumar un flujo uniforme y una fuente, donde las ecuaciones de un flujo uniforme en dirección $+x$ es\n",
    "\n",
    "\\begin{align}\n",
    "V_x &= U_\\infty \\quad V_y = 0 \\nonumber\\\\\n",
    "\\phi_U &= U_\\infty x \\quad \\psi_U = U_\\infty y,\n",
    "\\end{align}\n",
    "\n",
    "y las de una fuente centrada en el origen, por donde sale un caudal $q$ es\n",
    "\n",
    "\\begin{align}\n",
    "V_r &= \\frac{q}{2\\pi r}  \\quad V_\\theta = 0\\nonumber\\\\\n",
    "\\phi_f &= \\frac{q}{2\\pi}\\ln(r) \\quad \\psi_f = \\frac{q}{2\\pi} \\theta.\n",
    "\\end{align}\n",
    "\n",
    "Para sumar estos dos flujos, conviene para el flujo uniforme a coordenadas polares:\n",
    "\n",
    "\\begin{equation}\n",
    "\\phi_U = U_\\infty r\\cos(\\theta) \\quad \\psi_U = U_\\infty r\\sin(\\theta)\n",
    "\\end{equation}\n",
    "\n",
    "y la suma da\n",
    "\n",
    "\\begin{align}\n",
    "\\phi_R &= \\phi_U+\\phi_f = U_\\infty r\\cos(\\theta) + \\frac{q}{2\\pi}\\ln(r)\\nonumber\\\\\n",
    "\\psi_R &= \\psi_U+\\psi_f = U_\\infty r\\sin(\\theta) + \\frac{q}{2\\pi}\\theta\n",
    "\\end{align}\n",
    "\n"
   ]
  },
  {
   "cell_type": "code",
   "execution_count": null,
   "metadata": {},
   "outputs": [],
   "source": [
    "import numpy\n",
    "from math import pi\n",
    "from matplotlib import pyplot\n",
    "%matplotlib inline\n",
    "pyplot.rcParams['font.family'] = 'serif'\n",
    "pyplot.rcParams['font.size'] = 16\n",
    "\n",
    "nx = 50\n",
    "L = 4.0\n",
    "x = numpy.linspace(-L/2,L/2,nx)\n",
    "X,Y = numpy.meshgrid(x,x)\n",
    "\n",
    "U_inf = 1.\n",
    "q = 5.\n",
    "\n",
    "r     = numpy.sqrt(X**2+Y**2)\n",
    "theta = numpy.arctan2(Y,X)\n",
    "\n",
    "psi_U = U_inf*Y \n",
    "phi_U = U_inf*X\n",
    "psi_f = q/(2*pi)*theta\n",
    "phi_f = q/(2*pi)*numpy.log(r)\n",
    "\n",
    "psi = psi_U+psi_f\n",
    "phi = phi_U+phi_f\n",
    "#contours = numpy.arange(-3.9,3.9,0.25)\n",
    "contours = numpy.arange(-5,5,0.5)\n",
    "\n",
    "pyplot.figure()\n",
    "C=pyplot.contour(X, Y, psi, contours, colors='k')\n",
    "C1=pyplot.contour(X, Y, phi, contours, colors='r')\n",
    "pyplot.clabel(C, inline=1, fontsize=10)\n",
    "#pyplot.savefig('rankine.pdf')"
   ]
  },
  {
   "cell_type": "markdown",
   "metadata": {},
   "source": [
    "El flujo parece estar dividido en dos regiones, separadas por la línea de flujo $\\psi=2.5$. Esta línea de flujo contiene un punto de estancamiento sobre el eje $x$, por lo que representa una superficie sólida."
   ]
  },
  {
   "cell_type": "markdown",
   "metadata": {},
   "source": [
    "## Flujo alrededor de un cilindro\n",
    "\n",
    "Un flujo muy interesante, y que permite modelar problemas muy cercanos a la física, aparece de la suma de un flujo uniforme y un doblete. Las ecuaciones del doblete son:\n",
    "\n",
    "\\begin{align}\n",
    "V_r = -K\\frac{\\cos(\\theta)}{r^2}\\quad V_\\theta = -K\\frac{\\sin(\\theta)}{r^2}\\nonumber\\\\\n",
    "\\phi_d=K\\frac{\\cos(\\theta)}{r}\\quad \\psi_d = -K\\frac{\\sin(\\theta)}{r}.\n",
    "\\end{align}\n",
    "\n",
    "Sumemos estos flujos en coordenadas polares\n",
    "\n",
    "\\begin{align}\n",
    "\\phi_c &= \\phi_U+\\phi_d = U_\\infty r\\cos(\\theta) + K\\frac{\\cos(\\theta)}{r}\\nonumber\\\\\n",
    "\\psi_c &= \\psi_U+\\psi_d = U_\\infty r\\sin(\\theta) - K\\frac{\\sin(\\theta)}{r}\n",
    "\\end{align}\n",
    "\n",
    "Grafiquemos $\\psi_c$ para el caso $U_\\infty=1$ y $K=1$"
   ]
  },
  {
   "cell_type": "code",
   "execution_count": null,
   "metadata": {},
   "outputs": [],
   "source": [
    "K= 1.\n",
    "psi_d = -K*numpy.sin(theta)/r\n",
    "\n",
    "psi_c = psi_U+psi_d\n",
    "contours = numpy.arange(-4,4,0.5)\n",
    "\n",
    "pyplot.figure()\n",
    "C=pyplot.contour(X, Y, psi_c, contours, colors='k')\n",
    "pyplot.clabel(C, inline=1, fontsize=10)\n",
    "#pyplot.savefig('cilindro.pdf')"
   ]
  },
  {
   "cell_type": "markdown",
   "metadata": {
    "collapsed": true
   },
   "source": [
    "## Flujo alrededor de un cilindro con circulación\n",
    "\n",
    "El flujo alrededor de un cilindro con circulación es muy parecido al caso anterior, pero ahora le agregamos un vórtice (sentido del reloj). El resultado es que el flujo será capaz de empujar el cilindro hacia arriba: produce sustentación. Este resultado es la base para el estudo de la aerodinámica y de cuerpos que sean capaces de volar.\n",
    "\n",
    "Las ecuaciones de un vórtice que gira en el sentido del reloj son\n",
    "\n",
    "\\begin{align}\n",
    "V_r &= 0 \\quad V_\\theta=-\\frac{\\Gamma}{2\\pi r}\\nonumber\\\\\n",
    "\\phi_v&=-\\frac{\\Gamma}{2\\pi}\\theta \\quad \\psi_v = \\frac{\\Gamma}{2\\pi}\\ln(r).\n",
    "\\end{align}\n",
    "\n",
    "Por lo tanto, la ecuación de un cilindro con circulación es\n",
    "\n",
    "\\begin{align}\n",
    "\\phi_L &= \\phi_U+\\phi_d+\\phi_v = U_\\infty r\\cos(\\theta) + K\\frac{\\cos(\\theta)}{r} -\\frac{\\Gamma}{2\\pi}\\theta \\nonumber\\\\\n",
    "\\psi_L &= \\psi_U+\\psi_d+\\psi_v = U_\\infty r\\sin(\\theta) - K\\frac{\\sin(\\theta)}{r} + \\frac{\\Gamma}{2\\pi}\\ln(r)\n",
    "\\end{align}\n",
    "\n",
    "Grafiquemos $\\psi_L$ para el caso $U_\\infty=1$, $K=1$ y $\\Gamma=5$."
   ]
  },
  {
   "cell_type": "code",
   "execution_count": null,
   "metadata": {},
   "outputs": [],
   "source": []
  },
  {
   "cell_type": "code",
   "execution_count": null,
   "metadata": {},
   "outputs": [],
   "source": []
  },
  {
   "cell_type": "code",
   "execution_count": null,
   "metadata": {},
   "outputs": [],
   "source": []
  }
 ],
 "metadata": {
  "kernelspec": {
   "display_name": "Python 3",
   "language": "python",
   "name": "python3"
  },
  "language_info": {
   "codemirror_mode": {
    "name": "ipython",
    "version": 3
   },
   "file_extension": ".py",
   "mimetype": "text/x-python",
   "name": "python",
   "nbconvert_exporter": "python",
   "pygments_lexer": "ipython3",
   "version": "3.7.2"
  }
 },
 "nbformat": 4,
 "nbformat_minor": 1
}
